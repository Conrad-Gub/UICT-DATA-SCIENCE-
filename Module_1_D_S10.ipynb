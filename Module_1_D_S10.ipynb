{
  "nbformat": 4,
  "nbformat_minor": 0,
  "metadata": {
    "colab": {
      "provenance": [],
      "mount_file_id": "1rLDRa7EE2vIqTIt20yig3U9xhwSaZN2y",
      "authorship_tag": "ABX9TyOYIdSRP3Qa3c5n/hIO+SKA",
      "include_colab_link": true
    },
    "kernelspec": {
      "name": "python3",
      "display_name": "Python 3"
    },
    "language_info": {
      "name": "python"
    }
  },
  "cells": [
    {
      "cell_type": "markdown",
      "metadata": {
        "id": "view-in-github",
        "colab_type": "text"
      },
      "source": [
        "<a href=\"https://colab.research.google.com/github/Conrad-Gub/UICT-DATA-SCIENCE-/blob/main/Module_1_D_S10.ipynb\" target=\"_parent\"><img src=\"https://colab.research.google.com/assets/colab-badge.svg\" alt=\"Open In Colab\"/></a>"
      ]
    },
    {
      "cell_type": "markdown",
      "source": [
        "Introduction to data science"
      ],
      "metadata": {
        "id": "vAyzsJmDVD-n"
      }
    },
    {
      "cell_type": "code",
      "source": [
        "#use the print function to return Hello World!\n",
        "print(\"Hello world!\")"
      ],
      "metadata": {
        "colab": {
          "base_uri": "https://localhost:8080/"
        },
        "id": "kAoyt_lDvuUf",
        "outputId": "7c9d20a3-ab3f-41d0-c26a-1eea091aca3c"
      },
      "execution_count": 1,
      "outputs": [
        {
          "output_type": "stream",
          "name": "stdout",
          "text": [
            "Hello world!\n"
          ]
        }
      ]
    },
    {
      "cell_type": "code",
      "execution_count": 2,
      "metadata": {
        "id": "Pn9O-cFXNhjr",
        "colab": {
          "base_uri": "https://localhost:8080/"
        },
        "outputId": "ebd1834e-520b-4803-ad88-a89f59aee4f5"
      },
      "outputs": [
        {
          "output_type": "stream",
          "name": "stdout",
          "text": [
            "Conrad at Data science\n"
          ]
        }
      ],
      "source": [
        "print(\"Conrad at Data science\")"
      ]
    },
    {
      "cell_type": "code",
      "source": [
        "name=input(\"Enter your first Name:\")\n",
        "print(name)"
      ],
      "metadata": {
        "colab": {
          "base_uri": "https://localhost:8080/"
        },
        "id": "LCZVE7JbyA08",
        "outputId": "2d78fe0a-2237-4028-e387-6085221cb2f3"
      },
      "execution_count": 3,
      "outputs": [
        {
          "output_type": "stream",
          "name": "stdout",
          "text": [
            "Enter your first Name:Conrad\n",
            "Conrad\n"
          ]
        }
      ]
    },
    {
      "cell_type": "code",
      "source": [
        "# declare an integer and float to return its output using the print statement\n",
        "a= 24\n",
        "print(a)\n",
        "\n",
        "b=0.62\n",
        "print(b)"
      ],
      "metadata": {
        "colab": {
          "base_uri": "https://localhost:8080/"
        },
        "id": "EgNPj8rHzt3v",
        "outputId": "8af1b425-8724-409e-8173-82f930d53fc2"
      },
      "execution_count": 4,
      "outputs": [
        {
          "output_type": "stream",
          "name": "stdout",
          "text": [
            "24\n",
            "0.62\n"
          ]
        }
      ]
    },
    {
      "cell_type": "code",
      "source": [
        "#Maths operations 1. Return addition\n",
        "c=45\n",
        "d=64\n",
        "print(c+d)"
      ],
      "metadata": {
        "colab": {
          "base_uri": "https://localhost:8080/"
        },
        "id": "4zoYR2cY0VWR",
        "outputId": "c871a667-e479-46ed-af87-b1ca67eb020e"
      },
      "execution_count": 5,
      "outputs": [
        {
          "output_type": "stream",
          "name": "stdout",
          "text": [
            "109\n"
          ]
        }
      ]
    },
    {
      "cell_type": "code",
      "source": [
        "#Division\n",
        "print(d/a)\n",
        "print(c*d)\n",
        "\n",
        "dob = int(input(\"year of birth: \"))\n",
        "cont1= int(input(\"current year :\"))\n",
        "difference = cont1 - dob\n",
        "\n",
        "print(\"differnece is\", difference)"
      ],
      "metadata": {
        "colab": {
          "base_uri": "https://localhost:8080/"
        },
        "id": "EMom9G4d1B3o",
        "outputId": "c1379351-8562-4808-8626-f3951de47cfb"
      },
      "execution_count": 13,
      "outputs": [
        {
          "output_type": "stream",
          "name": "stdout",
          "text": [
            "2.6666666666666665\n",
            "2880\n",
            "year of birth: 1998\n",
            "current year :2025\n",
            "differnece is 27\n"
          ]
        }
      ]
    },
    {
      "cell_type": "code",
      "source": [
        "# String variables; words or characters; it can be stored in a variable. A string is immutable--cannot be changed.\n",
        "# Declare one today\n",
        "student= \"Conrad\"\n",
        "print(student)\n",
        "\n",
        "students = \"conrad is enrolled\"\n",
        "print(student, students)"
      ],
      "metadata": {
        "colab": {
          "base_uri": "https://localhost:8080/"
        },
        "id": "_Hcx9_nIYhgL",
        "outputId": "2b71ff7f-4a1f-49ae-8431-ecd05fde9ac2"
      },
      "execution_count": 6,
      "outputs": [
        {
          "output_type": "stream",
          "name": "stdout",
          "text": [
            "Conrad\n",
            "Conrad conrad is enrolled\n"
          ]
        }
      ]
    },
    {
      "cell_type": "code",
      "source": [
        "# edits can be made; use lowercase; uppercase and capitalize functions already embedded.\n",
        "print(student.upper())\n",
        "print(students.capitalize())"
      ],
      "metadata": {
        "colab": {
          "base_uri": "https://localhost:8080/"
        },
        "id": "FSX6UYg1Z8Cv",
        "outputId": "787012f8-d168-4a17-de68-98f6be24a73c"
      },
      "execution_count": 7,
      "outputs": [
        {
          "output_type": "stream",
          "name": "stdout",
          "text": [
            "CONRAD\n",
            "Conrad is enrolled\n"
          ]
        }
      ]
    },
    {
      "cell_type": "code",
      "source": [
        "#formatting strings and then combining strings: format can be done to add words or sentences i.e concutinate. f hepls you use the string you've defined before; prior.\n",
        "color = \"Golden\"\n",
        "car = \"SUV Range Rover\"\n",
        "print(f\"Conrad has a {color} {car}\")\n",
        "\n",
        "print(\"Conrad was offered another \"+ color + \" \" + car + \" and accepted\")"
      ],
      "metadata": {
        "colab": {
          "base_uri": "https://localhost:8080/"
        },
        "id": "GjL47gb4cKQa",
        "outputId": "09837754-bd9f-4128-c654-2a463e97d4c3"
      },
      "execution_count": 12,
      "outputs": [
        {
          "output_type": "stream",
          "name": "stdout",
          "text": [
            "Conrad has a Golden SUV Range Rover\n",
            "Conrad was offered another Golden SUV Range Rover and accepted\n"
          ]
        }
      ]
    },
    {
      "cell_type": "markdown",
      "source": [
        "# You can also include expressions\n",
        "price = 10.5\n",
        "quantity = 3\n",
        "print(f\"The total cost is ${price * quantity:.2f}\") # .2f formats to 2 decimal places\n",
        "\n",
        "**Other Data structures**\n",
        "these store collection of related data e.g lists, tuple, dictionary and set.\n",
        "THey are used to organise and store data so that we can easily maninulate it.\n",
        "--> for the purpose of handling data, processing and analyzing it to get meaningful insights of it.\n",
        "\n",
        "Lists are kept in square brackets and in them are strings, numbers."
      ],
      "metadata": {
        "id": "tK5inDYQfbrc"
      }
    },
    {
      "cell_type": "code",
      "source": [
        "# length of List\n",
        "cars = [\"Range Rover\", \"benz\", \"BMW\"]\n",
        "print(cars)\n",
        "# to know the number of items in the list; use the length fxn i.e. len\n",
        "print(len(cars))"
      ],
      "metadata": {
        "colab": {
          "base_uri": "https://localhost:8080/"
        },
        "id": "bMPHAxOefh9l",
        "outputId": "a5be5b6c-711d-484e-c980-4b22db5b53b4"
      },
      "execution_count": 20,
      "outputs": [
        {
          "output_type": "stream",
          "name": "stdout",
          "text": [
            "['Range Rover', 'benz', 'BMW']\n",
            "3\n"
          ]
        }
      ]
    },
    {
      "cell_type": "code",
      "source": [
        "#Append; adding another item on the list. On append; you add only one item; extend requires you to add more than 1 item by using [square brackets] as in a list.\n",
        "cars.append('Ford Raptor')\n",
        "print(cars)\n",
        "\n",
        "#Sorting: Ascending Order\n",
        "cars.sort()\n",
        "print(cars)"
      ],
      "metadata": {
        "colab": {
          "base_uri": "https://localhost:8080/"
        },
        "id": "-BiI6aA_oYxv",
        "outputId": "9bc92a58-2119-49d0-8f0d-230f2cfc45a1"
      },
      "execution_count": 21,
      "outputs": [
        {
          "output_type": "stream",
          "name": "stdout",
          "text": [
            "['Range Rover', 'benz', 'BMW', 'Ford Raptor']\n",
            "['BMW', 'Ford Raptor', 'Range Rover', 'benz']\n"
          ]
        }
      ]
    },
    {
      "cell_type": "code",
      "source": [
        "#Indexing pulling out certain/particular item; use square brackets when indexing. This counts goes from 0,1,2,...\n",
        "print(cars[0])"
      ],
      "metadata": {
        "colab": {
          "base_uri": "https://localhost:8080/"
        },
        "id": "RkDqj9qaKr9n",
        "outputId": "ba29651a-397b-42b4-b083-900e44778875"
      },
      "execution_count": 22,
      "outputs": [
        {
          "output_type": "stream",
          "name": "stdout",
          "text": [
            "BMW\n"
          ]
        }
      ]
    },
    {
      "cell_type": "code",
      "source": [
        "#Removing\n",
        "cars.remove(\"BMW\")\n",
        "print(cars)"
      ],
      "metadata": {
        "colab": {
          "base_uri": "https://localhost:8080/"
        },
        "id": "SpBLZvWXNYMY",
        "outputId": "8b7b7e21-add8-4c3b-9310-15547ffa5998"
      },
      "execution_count": 23,
      "outputs": [
        {
          "output_type": "stream",
          "name": "stdout",
          "text": [
            "['Ford Raptor', 'Range Rover', 'benz']\n"
          ]
        }
      ]
    },
    {
      "cell_type": "code",
      "source": [
        "#slicing: returns a portion\n",
        "print(cars[1:3]) # This will return elements from index 1 up to (but not including) index 3\n",
        "print(cars[:2])  # This will return elements from the beginning up to (but not including) index 2\n",
        "print(cars[1:])  # This will return elements from index 1 to the end\n",
        "print(cars[::2]) # This will return every second element"
      ],
      "metadata": {
        "colab": {
          "base_uri": "https://localhost:8080/"
        },
        "id": "pIS5HJBYPTFM",
        "outputId": "36abee42-1fbe-4d6f-b11f-1188e5980b96"
      },
      "execution_count": 24,
      "outputs": [
        {
          "output_type": "stream",
          "name": "stdout",
          "text": [
            "['Range Rover', 'benz']\n",
            "['Ford Raptor', 'Range Rover']\n",
            "['Range Rover', 'benz']\n",
            "['Ford Raptor', 'benz']\n"
          ]
        }
      ]
    }
  ]
}