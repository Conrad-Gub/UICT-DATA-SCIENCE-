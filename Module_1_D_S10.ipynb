{
  "nbformat": 4,
  "nbformat_minor": 0,
  "metadata": {
    "colab": {
      "provenance": [],
      "mount_file_id": "1rLDRa7EE2vIqTIt20yig3U9xhwSaZN2y",
      "authorship_tag": "ABX9TyOO7eJnpaCkLgvujAcIb8Hj",
      "include_colab_link": true
    },
    "kernelspec": {
      "name": "python3",
      "display_name": "Python 3"
    },
    "language_info": {
      "name": "python"
    }
  },
  "cells": [
    {
      "cell_type": "markdown",
      "metadata": {
        "id": "view-in-github",
        "colab_type": "text"
      },
      "source": [
        "<a href=\"https://colab.research.google.com/github/Conrad-Gub/UICT-DATA-SCIENCE-/blob/main/Module_1_D_S10.ipynb\" target=\"_parent\"><img src=\"https://colab.research.google.com/assets/colab-badge.svg\" alt=\"Open In Colab\"/></a>"
      ]
    },
    {
      "cell_type": "markdown",
      "source": [
        "Introduction to data science"
      ],
      "metadata": {
        "id": "vAyzsJmDVD-n"
      }
    },
    {
      "cell_type": "code",
      "execution_count": null,
      "metadata": {
        "id": "Pn9O-cFXNhjr",
        "colab": {
          "base_uri": "https://localhost:8080/"
        },
        "outputId": "fb111ac5-a9c4-4d8d-8bae-b21b771117de"
      },
      "outputs": [
        {
          "output_type": "stream",
          "name": "stdout",
          "text": [
            "Conrad Data science\n"
          ]
        }
      ],
      "source": [
        "print(\"Conrad Data science\")"
      ]
    }
  ]
}